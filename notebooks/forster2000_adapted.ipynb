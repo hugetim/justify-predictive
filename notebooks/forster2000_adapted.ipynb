{
 "cells": [
  {
   "cell_type": "code",
   "execution_count": 1,
   "metadata": {},
   "outputs": [],
   "source": [
    "import numpy as np\n",
    "import matplotlib.pyplot as plt\n",
    "from scipy.optimize import curve_fit\n",
    "from sklearn.metrics import mean_squared_error"
   ]
  },
  {
   "cell_type": "code",
   "execution_count": 18,
   "metadata": {},
   "outputs": [],
   "source": [
    "# True function\n",
    "def true_function(x):\n",
    "    return 1 + np.tanh(2 * (x - 2))\n",
    "\n",
    "# Model definitions\n",
    "def lin_0(x, b):\n",
    "    return b*x\n",
    "\n",
    "def lin(x, a, b):\n",
    "    return a + b*x\n",
    "\n",
    "def par(x, a, b, c):\n",
    "    return a + b*x + c*x**2\n",
    "\n",
    "def cubic(x, a, b, c, d):\n",
    "    return a + b*x + c*x**2 + d*x**3\n",
    "\n",
    "def poly_4(x, a, b, c, d, e):\n",
    "    return a + b*x + c*x**2 + d*x**3 + e*x**4\n",
    "\n",
    "def exp_model(x, a, b):\n",
    "    return a * np.exp(-b * (x - 2))\n",
    "\n",
    "def exp_plus(x, a, b, c):\n",
    "    return a * np.exp(-b * (x - 2)) + c\n",
    "\n",
    "# Define models\n",
    "models = {\n",
    "    \"LIN_0\": (lin_0, [1]),\n",
    "    \"LIN\": (lin, [1, 1]),\n",
    "    \"PAR\": (par, [1, 1, 1]),\n",
    "    \"CUBIC\": (cubic, [1, 1, 1, 1]),\n",
    "    \"POLY-4\": (poly_4, [1, 1, 1, 1, 1]),\n",
    "    \"EXP\": (exp_model, [1, 1]),\n",
    "    #\"EXP^+\": (exp_plus, [1, 1, 1])\n",
    "}"
   ]
  },
  {
   "cell_type": "code",
   "execution_count": 6,
   "metadata": {},
   "outputs": [],
   "source": [
    "def generate_data(n_points=50, noise_std=0.1):\n",
    "    x = np.linspace(0, 3.5, n_points)\n",
    "    y = true_function(x) + np.random.normal(0, noise_std, size=x.shape)\n",
    "    return x, y\n",
    "\n",
    "# Generate synthetic data\n",
    "x, y = generate_data()\n",
    "\n",
    "# Split data into calibration and generalization sets\n",
    "x_cal, y_cal = x[:25], y[:25]\n",
    "x_gen, y_gen = x[25:], y[25:]\n"
   ]
  },
  {
   "cell_type": "code",
   "execution_count": null,
   "metadata": {},
   "outputs": [],
   "source": [
    "(func, p0) = models[\"LIN_0\"]\n",
    "x_train, y_train, x_test, y_test = x_cal, y_cal, x_gen, y_gen\n",
    "popt, _ = curve_fit(func, x_train, y_train, p0=p0)\n",
    "y_pred_test = func(x_test, *popt)\n",
    "mse = mean_squared_error(y_test, y_pred_test)\n",
    "mse"
   ]
  },
  {
   "cell_type": "code",
   "execution_count": null,
   "metadata": {},
   "outputs": [],
   "source": [
    "def fit_and_evaluate(models, x_train, y_train, x_test, y_test):\n",
    "    results = {}\n",
    "    for name, (func, p0) in models.items():\n",
    "        print(name)\n",
    "        popt, _ = curve_fit(func, x_train, y_train, p0=p0)\n",
    "        y_pred_test = func(np.array(x_test), *popt)\n",
    "        mse = mean_squared_error(y_test, y_pred_test)\n",
    "        results[name] = (popt, mse)\n",
    "    return results\n",
    "\n",
    "# Fit models and evaluate performance\n",
    "results = fit_and_evaluate(models, x_cal, y_cal, x_gen, y_gen)\n",
    "\n",
    "# Display results\n",
    "for model, (params, mse) in results.items():\n",
    "    print(f\"{model}: Generalization MSE = {mse:.4f}\")\n",
    "\n",
    "# Plot results\n",
    "plt.scatter(x, y, label=\"Data\", color='black')\n",
    "plt.plot(x, true_function(x), label=\"True Function\", linestyle=\"dashed\")\n",
    "for model, (func, p0) in models.items():\n",
    "    popt, _ = curve_fit(func, x, y, p0=p0)\n",
    "    plt.plot(x, func(x, *popt), label=model)\n",
    "plt.legend()\n",
    "plt.xlabel(\"x\")\n",
    "plt.ylabel(\"y\")\n",
    "plt.title(\"Model Fits\")\n",
    "plt.show()"
   ]
  },
  {
   "cell_type": "code",
   "execution_count": null,
   "metadata": {},
   "outputs": [],
   "source": [
    "# Plot results (replicating Figure 5)\n",
    "plt.figure(figsize=(8, 6))\n",
    "plt.scatter(x, y, label=\"Data\", color='black')\n",
    "plt.plot(x, true_function(x), label=\"True Function\", linestyle=\"dashed\")\n",
    "for model, (func, p0) in models.items():\n",
    "    popt, _ = curve_fit(func, x, y, p0=p0)\n",
    "    plt.plot(x, func(x, *popt), label=model)\n",
    "plt.axvline(x=3.5, color='gray', linestyle='dotted', label='Extrapolation Boundary')\n",
    "plt.legend()\n",
    "plt.xlabel(\"x\")\n",
    "plt.ylabel(\"y\")\n",
    "plt.title(\"Model Fits with Extrapolation (Replicating Figure 5)\")\n",
    "plt.show()"
   ]
  }
 ],
 "metadata": {
  "kernelspec": {
   "display_name": "Python 3",
   "language": "python",
   "name": "python3"
  },
  "language_info": {
   "codemirror_mode": {
    "name": "ipython",
    "version": 3
   },
   "file_extension": ".py",
   "mimetype": "text/x-python",
   "name": "python",
   "nbconvert_exporter": "python",
   "pygments_lexer": "ipython3",
   "version": "3.10.12"
  }
 },
 "nbformat": 4,
 "nbformat_minor": 2
}
