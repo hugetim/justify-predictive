{
 "cells": [
  {
   "cell_type": "code",
   "execution_count": 1,
   "metadata": {},
   "outputs": [],
   "source": [
    "import numpy as np\n",
    "import matplotlib.pyplot as plt\n",
    "import statsmodels.api as sm\n",
    "from scipy.special import expit  # For tanh (logistic function)\n",
    "import pandas as pd\n",
    "import math"
   ]
  },
  {
   "cell_type": "code",
   "execution_count": 2,
   "metadata": {},
   "outputs": [],
   "source": [
    "def design_matrix(model_name, x):\n",
    "    if model_name == \"POLY-4\":\n",
    "        X = np.column_stack([np.ones(len(x)), x, x**2, x**3, x**4])\n",
    "    elif model_name == \"CUBIC\":\n",
    "        X = np.column_stack([np.ones(len(x)), x, x**2, x**3])\n",
    "    elif model_name == \"PAR\":\n",
    "        X = np.column_stack([np.ones(len(x)), x, x**2])\n",
    "    elif model_name == \"LIN\":\n",
    "        X = np.column_stack([np.ones(len(x)), x])\n",
    "    elif model_name == \"LIN0\":\n",
    "        X = x.reshape(-1, 1)  # Only x as a feature (no intercept)\n",
    "    else:\n",
    "        raise NotImplementedError(model_name)\n",
    "    return X"
   ]
  },
  {
   "cell_type": "code",
   "execution_count": 3,
   "metadata": {},
   "outputs": [],
   "source": [
    "def fit_model(model_name, x, y, thetas_guess=None):\n",
    "    \"\"\"Fits the specified model using statsmodels (OLS).\"\"\"\n",
    "\n",
    "    X = design_matrix(model_name, x)\n",
    "    model = sm.OLS(y, X)\n",
    "    results = model.fit()\n",
    "    return results\n",
    "    \n",
    "thetas_dict = {\n",
    "    \"POLY-4\": [0.5, 0.2, -0.1, 0.05, -0.01],  # Example thetas\n",
    "    \"CUBIC\": [0.4, 0.3, -0.1, 0.02],\n",
    "    \"PAR\": [0.6, 0.1, -0.05],\n",
    "    \"LIN\": [0.5, 0.2],\n",
    "    \"LIN0\": [0.3],  # theta1 is fixed to 0\n",
    "    \"EXP\": [0.5, 2.0],  # theta1, theta2 for EXP\n",
    "    \"EXP*\": [0.5, 2.0, 0.2],  # theta1, theta2, theta3 for EXP*\n",
    "}"
   ]
  },
  {
   "cell_type": "code",
   "execution_count": 4,
   "metadata": {},
   "outputs": [],
   "source": [
    "def ll_score(y_pred, y, sigma2):\n",
    "    \"\"\"Average log-likelihood\"\"\"\n",
    "    pi = math.pi\n",
    "    ln = math.log\n",
    "    MSE = np.mean((y_pred - y)**2)\n",
    "    return -(1/2)*(ln(2*pi*sigma2) + MSE/sigma2)"
   ]
  },
  {
   "cell_type": "code",
   "execution_count": 5,
   "metadata": {},
   "outputs": [],
   "source": [
    "def score(y_pred, y):\n",
    "    return np.mean((y_pred - y)**2) * 100000"
   ]
  },
  {
   "cell_type": "code",
   "execution_count": 6,
   "metadata": {},
   "outputs": [],
   "source": [
    "def generate_data(x, noise_std=0.0):\n",
    "    \"\"\"Generates data based on the specified model.\"\"\"\n",
    "    y = 0.5 + 0.5 * np.tanh(x - 2)\n",
    "    if y is not None:\n",
    "        y += np.random.normal(0, noise_std, size=len(x)) # Add noise\n",
    "    return y\n",
    "\n",
    "def generate_x(x_range):\n",
    "    step = 0.1\n",
    "    return np.round(np.arange(x_range[0], x_range[1] + step, step), decimals=1)\n",
    "\n",
    "# Set noise level (to zero, as specified in the prompt)\n",
    "noise_std = 0.0  # No noise, as per the description\n",
    "\n",
    "# Define x ranges (as specified in the text)\n",
    "x_ranges = {\n",
    "    \"X0\": (0, 3.5),\n",
    "    \"Xtarg\": (3.6, 5),\n",
    "    \"Xall\": (0, 5),  # Combined range for generalization\n",
    "    \"Xcal\": (0, 2.5),\n",
    "    \"Xgen\": (2.6, 3.5),\n",
    "    \"Xcal1\": (0, 2.3),\n",
    "    \"Xgen1\": (2.4, 3.5),\n",
    "    \"Xcal2\": (0, 2.4),\n",
    "    \"Xgen2\": (2.5, 3.5),\n",
    "    \"Xcal3\": (0, 2.6),\n",
    "    \"Xgen3\": (2.7, 3.5),\n",
    "}\n",
    "\n",
    "# Generate true y values\n",
    "x_all = generate_x(x_ranges[\"Xall\"])\n",
    "y_true = generate_data(x_all, noise_std)  # TRUE model doesn't need thetas\n",
    "f_dict = {x: y for x, y in zip(x_all, y_true)}\n",
    "#plt.figure(figsize=(12, 8))\n",
    "#plt.plot(x_all, y_true, label=\"TRUE\", color=\"blue\", linewidth=2)\n"
   ]
  },
  {
   "cell_type": "code",
   "execution_count": null,
   "metadata": {},
   "outputs": [],
   "source": [
    "def run_simulation(x_range_names, models):\n",
    "    \"\"\"Runs the simulation and returns the results.\"\"\"\n",
    "    _x_ranges = {k: x_ranges[k] for k in x_range_names}\n",
    "    results_dict = {}\n",
    "    for model_name in models:\n",
    "        results_dict[model_name] = {}\n",
    "        for range_name, x_range in _x_ranges.items():\n",
    "            # Generate x values, spaced by 0.1\n",
    "            x = generate_x(x_range)\n",
    "\n",
    "            # Generate data for the current model (with potential noise)\n",
    "            thetas = thetas_dict.get(model_name)\n",
    "            y = np.array([f_dict[x_i] for x_i in x])\n",
    "\n",
    "            # Fit the model\n",
    "            fit_results = fit_model(model_name, x, y, thetas)\n",
    "            y_pred = fit_results.predict(fit_results.model.exog)\n",
    "\n",
    "            results_dict[model_name][range_name] = {\n",
    "                \"score\": score(y_pred, y),\n",
    "                \"fitted_params\": fit_results.params if fit_results is not None else None,\n",
    "                #\"x\": x,  # Store x and y for plotting\n",
    "                #\"y\": y,\n",
    "            }\n",
    "    display(pd.DataFrame([[model] + [results_dict[model][range_name][\"score\"] for range_name in x_range_names] for model in models]))\n",
    "    return results_dict\n",
    "\n",
    "sim_models = list(reversed([\"POLY-4\", \"CUBIC\", \"PAR\", \"LIN\", \"LIN0\"]))\n",
    "sim_range_names = [\"Xcal\", \"X0\", \"Xall\"]\n",
    "results = run_simulation(sim_range_names, sim_models)\n"
   ]
  },
  {
   "cell_type": "code",
   "execution_count": null,
   "metadata": {},
   "outputs": [],
   "source": [
    "def run_gen_simulation(range_names, models):\n",
    "    \"\"\"Runs the simulation and returns the results.\"\"\"\n",
    "\n",
    "    results_dict = {}\n",
    "    for model_name in models:\n",
    "        results_dict[model_name] = {}\n",
    "        names = []\n",
    "        for item in range_names: #range_name, x_range in _x_ranges.items():\n",
    "            name = f\"{item[0]}->{item[1]}\"\n",
    "            names.append(name)\n",
    "            x_range = x_ranges[item[0]]\n",
    "            # Generate x values, spaced by 0.1\n",
    "            x = generate_x(x_range)\n",
    "\n",
    "            # Generate data for the current model (with potential noise)\n",
    "            thetas = thetas_dict.get(model_name)\n",
    "            y = np.array([f_dict[x_i] for x_i in x])\n",
    "\n",
    "            # Fit the model\n",
    "            fit_results = fit_model(model_name, x, y, thetas)\n",
    "            out_range = x_ranges[item[1]]\n",
    "            x_out = generate_x(out_range)\n",
    "            y_out = np.array([f_dict[x_i] for x_i in x_out])\n",
    "            y_pred = fit_results.predict(design_matrix(model_name, x_out))\n",
    "\n",
    "            results_dict[model_name][name] = {\n",
    "                \"score\": round(score(y_pred, y_out), 0),\n",
    "                \"fitted_params\": fit_results.params if fit_results is not None else None,\n",
    "                \"mse_resid\": fit_results.mse_resid,\n",
    "                \"ll_score\": ll_score(y_pred, y_out, fit_results.mse_resid)\n",
    "                #\"x\": x,  # Store x and y for plotting\n",
    "                #\"y\": y,\n",
    "            }\n",
    "    display(pd.DataFrame([[model] + [results_dict[model][range_name][\"score\"] for range_name in names] for model in models]))\n",
    "    display(pd.DataFrame([[model] + [results_dict[model][range_name][\"ll_score\"] for range_name in names] for model in models]))\n",
    "    return results_dict\n",
    "\n",
    "sim_models = list(reversed([\"POLY-4\", \"CUBIC\", \"PAR\", \"LIN\", \"LIN0\"]))\n",
    "sim_range_names = [(\"Xcal\", \"Xgen\"), (\"X0\", \"Xtarg\"), (\"X0\", \"Xall\")]\n",
    "results_gen = run_gen_simulation(sim_range_names, sim_models)\n",
    "##### Table 2 #####\n"
   ]
  },
  {
   "cell_type": "code",
   "execution_count": null,
   "metadata": {},
   "outputs": [],
   "source": [
    "temp0 = np.exp(np.array([[results_gen[model][range_name][\"ll_score\"] for range_name in results_gen[model]] for model in sim_models]))\n",
    "temp0"
   ]
  },
  {
   "cell_type": "code",
   "execution_count": null,
   "metadata": {},
   "outputs": [],
   "source": [
    "temp0[:, 0]/temp0[1, 0]"
   ]
  },
  {
   "cell_type": "code",
   "execution_count": null,
   "metadata": {},
   "outputs": [],
   "source": [
    "step = 0.1\n",
    "explore_range_names = []\n",
    "for i in range(0, 10):\n",
    "    cal_end = round(2.5 + step * i, 1)\n",
    "    gen_start = round(cal_end + step, 1)\n",
    "    cal_name = f\"Xcal{cal_end:.1f}\"\n",
    "    gen_name = f\"Xgen{cal_end:.1f}\"\n",
    "    x_ranges[cal_name] = (0, cal_end)\n",
    "    x_ranges[gen_name] = (gen_start, 3.5)\n",
    "    explore_range_names.append((cal_name, gen_name))\n",
    "results_gen2 = run_gen_simulation(explore_range_names, sim_models)"
   ]
  },
  {
   "cell_type": "code",
   "execution_count": null,
   "metadata": {},
   "outputs": [],
   "source": [
    "np.mean(np.array([[results_gen2[model][range_name][\"score\"] for range_name in results_gen2[model]] for model in sim_models]), axis=1)"
   ]
  },
  {
   "cell_type": "code",
   "execution_count": null,
   "metadata": {},
   "outputs": [],
   "source": [
    "temp = np.exp(np.mean(np.array([[results_gen2[model][range_name][\"ll_score\"] for range_name in results_gen2[model]] for model in sim_models]), axis=1))\n",
    "temp"
   ]
  },
  {
   "cell_type": "code",
   "execution_count": null,
   "metadata": {},
   "outputs": [],
   "source": [
    "temp/temp[1]"
   ]
  },
  {
   "cell_type": "code",
   "execution_count": null,
   "metadata": {},
   "outputs": [],
   "source": [
    "results = run_simulation([\"Xcal2.6\", \"Xcal2.7\", \"Xcal2.8\", \"Xcal2.9\", \"Xcal3.0\", \"Xcal3.1\", \"Xcal3.2\", \"Xcal3.3\", \"Xcal3.4\"], sim_models)"
   ]
  },
  {
   "cell_type": "code",
   "execution_count": null,
   "metadata": {},
   "outputs": [],
   "source": [
    "x_ranges"
   ]
  },
  {
   "cell_type": "code",
   "execution_count": null,
   "metadata": {},
   "outputs": [],
   "source": [
    "step = 0.1\n",
    "explore_range_names = []\n",
    "for i in range(0, 10):\n",
    "    cal_end = round(2.5 + step * i, 1)\n",
    "    gen_start = cal_end #round(cal_end + step, 1)\n",
    "    cal_name = f\"Xcal{cal_end:.1f}orig\"\n",
    "    gen_name = f\"Xgen{cal_end:.1f}orig\"\n",
    "    x_ranges[cal_name] = (0, cal_end)\n",
    "    x_ranges[gen_name] = (gen_start, 3.5)\n",
    "    explore_range_names.append((cal_name, gen_name))\n",
    "results_gen3 = run_gen_simulation(explore_range_names, sim_models)"
   ]
  },
  {
   "cell_type": "code",
   "execution_count": null,
   "metadata": {},
   "outputs": [],
   "source": [
    "np.round(np.mean(np.array([[results_gen3[model][range_name][\"score\"] for range_name in results_gen3[model]] for model in sim_models]), axis=1), 0)"
   ]
  },
  {
   "cell_type": "code",
   "execution_count": null,
   "metadata": {},
   "outputs": [],
   "source": [
    "model_name = \"POLY-4\"\n",
    "x_range = x_ranges[\"X0\"]\n",
    "\n",
    "# Generate x values, spaced by 0.1\n",
    "x = generate_x(x_range)\n",
    "\n",
    "# Generate data for the current model (with potential noise)\n",
    "thetas = thetas_dict.get(model_name)\n",
    "y = np.array([f_dict[x_i] for x_i in x])\n",
    "\n",
    "# Fit the model\n",
    "fit_results = fit_model(model_name, x, y, thetas)\n",
    "y_pred = fit_results.predict(fit_results.model.exog)\n",
    "score(y_pred, y)"
   ]
  },
  {
   "cell_type": "code",
   "execution_count": null,
   "metadata": {},
   "outputs": [],
   "source": [
    "#plt.figure(figsize=(12, 8))\n",
    "x4 = generate_x(x_ranges[\"Xall\"])\n",
    "y4 = fit_results.predict(design_matrix(\"POLY-4\", x4))\n",
    "plt.plot(x_all, y_true, label=\"TRUE\", color=\"blue\", linewidth=2)\n",
    "plt.plot(x4, y4, label=\"POLY-4\", color=\"gray\", linewidth=2)"
   ]
  }
 ],
 "metadata": {
  "kernelspec": {
   "display_name": "Python 3",
   "language": "python",
   "name": "python3"
  },
  "language_info": {
   "codemirror_mode": {
    "name": "ipython",
    "version": 3
   },
   "file_extension": ".py",
   "mimetype": "text/x-python",
   "name": "python",
   "nbconvert_exporter": "python",
   "pygments_lexer": "ipython3",
   "version": "3.10.12"
  }
 },
 "nbformat": 4,
 "nbformat_minor": 2
}
