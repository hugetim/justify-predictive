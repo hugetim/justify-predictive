{
 "cells": [
  {
   "cell_type": "markdown",
   "metadata": {},
   "source": [
    "# Forster (2000) replication"
   ],
   "id": "cd85487a-8e2e-4873-a423-9ced8a1e3552"
  },
  {
   "cell_type": "markdown",
   "metadata": {},
   "source": [
    "## Setup"
   ],
   "id": "cell-1"
  },
  {
   "cell_type": "code",
   "execution_count": null,
   "metadata": {},
   "outputs": [],
   "source": [
    "import numpy as np\n",
    "import matplotlib.pyplot as plt\n",
    "import statsmodels.api as sm\n",
    "import pandas as pd\n",
    "import math"
   ],
   "id": "cell-2"
  },
  {
   "cell_type": "code",
   "execution_count": null,
   "metadata": {},
   "outputs": [],
   "source": [
    "def design_matrix(model_name, x):\n",
    "    if model_name == \"POLY-4\":\n",
    "        X = np.column_stack([np.ones(len(x)), x, x**2, x**3, x**4])\n",
    "    elif model_name == \"CUBIC\":\n",
    "        X = np.column_stack([np.ones(len(x)), x, x**2, x**3])\n",
    "    elif model_name == \"PAR\":\n",
    "        X = np.column_stack([np.ones(len(x)), x, x**2])\n",
    "    elif model_name == \"LIN\":\n",
    "        X = np.column_stack([np.ones(len(x)), x])\n",
    "    elif model_name == \"LIN0\":\n",
    "        X = x.reshape(-1, 1)  # Only x as a feature (no intercept)\n",
    "    else:\n",
    "        raise NotImplementedError(model_name)\n",
    "    return X\n",
    "\n",
    "def fit_model(model_name, x, y):\n",
    "    \"\"\"Fits the specified model using statsmodels (OLS).\"\"\"\n",
    "    model = sm.OLS(y, design_matrix(model_name, x))\n",
    "    results = model.fit()\n",
    "    return results\n",
    "\n",
    "def predict(model_name, x, y, x_to_predict=None):\n",
    "    fit_results = fit_model(model_name, x, y)\n",
    "    if x_to_predict is None:\n",
    "        x_to_predict = x\n",
    "    return fit_results.predict(design_matrix(model_name, x_to_predict))"
   ],
   "id": "cell-3"
  },
  {
   "cell_type": "code",
   "execution_count": null,
   "metadata": {},
   "outputs": [],
   "source": [
    "def generate_y(x, noise_std=0.0):\n",
    "    \"\"\"Generates data based on the specified model.\"\"\"\n",
    "    y = 0.5 + 0.5 * np.tanh(x - 2)\n",
    "    if noise_std:\n",
    "        y += np.random.normal(0, noise_std, size=len(x))\n",
    "    return y\n",
    "\n",
    "def generate_x(x_range, step=0.1):\n",
    "    return np.round(np.arange(x_range[0], x_range[1] + step, step), decimals=1)"
   ],
   "id": "cell-4"
  },
  {
   "cell_type": "code",
   "execution_count": null,
   "metadata": {},
   "outputs": [],
   "source": [
    "# Define x ranges\n",
    "x_ranges = {\n",
    "    \"X0\": (0, 3.5),\n",
    "    \"Xtarg\": (3.5, 5),\n",
    "    \"Xall\": (0, 5),\n",
    "    \"Xcal\": (0, 2.5),\n",
    "    \"Xgen\": (2.5, 3.5),\n",
    "}\n",
    "\n",
    "x_all = generate_x(x_ranges[\"Xall\"])\n",
    "y_true = generate_y(x_all)\n",
    "f_dict = {x: y for x, y in zip(x_all, y_true)} # ensure exact same y's for all ranges"
   ],
   "id": "cell-5"
  },
  {
   "cell_type": "markdown",
   "metadata": {},
   "source": [
    "## Replicate Fig. 5"
   ],
   "id": "cell-6"
  },
  {
   "cell_type": "code",
   "execution_count": null,
   "metadata": {},
   "outputs": [],
   "source": [
    "x = generate_x(x_ranges[\"X0\"])\n",
    "y = np.array([f_dict[x_i] for x_i in x])\n",
    "y4 = predict(\"POLY-4\", x, y, x_to_predict=x_all)\n",
    "plt.plot(x_all, y_true, label=\"TRUE\", color=\"blue\", linewidth=2)\n",
    "plt.plot(x_all, y4, label=\"POLY-4\", color=\"gray\", linewidth=2);"
   ],
   "id": "cell-7"
  },
  {
   "cell_type": "code",
   "execution_count": null,
   "metadata": {},
   "outputs": [],
   "source": [
    "x = generate_x(x_ranges[\"X0\"])\n",
    "y = np.array([f_dict[x_i] for x_i in x])\n",
    "y4 = predict(\"POLY-4\", x, y, x_to_predict=x_all)\n",
    "plt.plot(x_all, y_true, label=\"TRUE\", color=\"blue\", linewidth=2)\n",
    "plt.plot(x_all, y4, label=\"POLY-4\", color=\"gray\", linewidth=2);"
   ],
   "id": "cell-8"
  },
  {
   "cell_type": "markdown",
   "metadata": {},
   "source": [
    "## Replicate Table 2"
   ],
   "id": "cell-9"
  },
  {
   "cell_type": "code",
   "execution_count": null,
   "metadata": {},
   "outputs": [],
   "source": [
    "def score(y_pred, y):\n",
    "    return np.mean((y_pred - y)**2) * 100000"
   ],
   "id": "cell-10"
  },
  {
   "cell_type": "code",
   "execution_count": null,
   "metadata": {},
   "outputs": [],
   "source": [
    "def _set_ranges(range_name_item):\n",
    "    x_range = x_ranges[range_name_item[0]]\n",
    "    x = generate_x(x_range)\n",
    "    y = np.array([f_dict[x_i] for x_i in x])\n",
    "    x_out_range = x_ranges[range_name_item[1]]\n",
    "    x_out = generate_x(x_out_range)\n",
    "    y_out = np.array([f_dict[x_i] for x_i in x_out])\n",
    "    return x, y, x_out, y_out\n",
    "\n",
    "\n",
    "def _display_table(models, names, results_dict):\n",
    "    table_data = [[results_dict[range_name][model][\"score\"] for range_name in names] for model in models]\n",
    "    df = (\n",
    "        pd.DataFrame(table_data, index=models)\n",
    "          .astype(int)\n",
    "          .rename_axis(None, axis=1).rename(columns={i: name for i, name in enumerate(names)})\n",
    "    )\n",
    "    display(df)\n",
    "\n",
    "\n",
    "def run_gen_simulation(range_name_items, models):\n",
    "    \"\"\"Runs the simulation and returns the results.\"\"\"\n",
    "    results_dict = {}\n",
    "    names = []\n",
    "    for item in range_name_items:\n",
    "        name = f\"{item[0]}->{item[1]}\"\n",
    "        results_dict[name] = {}\n",
    "        names.append(name)\n",
    "        x, y, x_out, y_out = _set_ranges(item)\n",
    "        for model_name in models:\n",
    "            y_pred = predict(model_name, x, y, x_to_predict=x_out)\n",
    "            results_dict[name][model_name] = {\n",
    "                \"score\": round(score(y_pred, y_out), 0),\n",
    "            }\n",
    "    _display_table(models, names, results_dict)\n",
    "\n",
    "sim_models = list(reversed([\"POLY-4\", \"CUBIC\", \"PAR\", \"LIN\", \"LIN0\"]))\n",
    "run_gen_simulation([(\"Xcal\", \"Xgen\"), (\"X0\", \"Xtarg\"), (\"X0\", \"Xall\")], sim_models)"
   ],
   "id": "cell-11"
  }
 ],
 "nbformat": 4,
 "nbformat_minor": 5,
 "metadata": {}
}
