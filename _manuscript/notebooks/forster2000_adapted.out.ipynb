{
 "cells": [
  {
   "cell_type": "markdown",
   "metadata": {},
   "source": [
    "#"
   ],
   "id": "42f5943d-5680-43eb-ab83-e90c4786ba04"
  },
  {
   "cell_type": "code",
   "execution_count": 1,
   "metadata": {},
   "outputs": [],
   "source": [
    "import numpy as np\n",
    "import matplotlib.pyplot as plt\n",
    "import statsmodels.api as sm\n",
    "import pandas as pd\n",
    "import math\n",
    "from functools import partial\n",
    "from typing import Iterable, Callable, Optional\n",
    "from numbers import Number"
   ],
   "id": "cell-0"
  },
  {
   "cell_type": "code",
   "execution_count": 2,
   "metadata": {},
   "outputs": [],
   "source": [
    "class PredictionTask:\n",
    "    def __init__(self, input, outcome=None):\n",
    "        self.A = input\n",
    "        self.B = outcome\n",
    "\n",
    "\n",
    "class WeightedPredictionClass:\n",
    "    def __init__(self, tasks: Iterable[PredictionTask], weights: Optional[Iterable[Number]] = None):\n",
    "        self.tasks = tasks\n",
    "        for task in self.tasks:\n",
    "            if task.B is None:\n",
    "                raise ValueError(\"All WeightedPredictionClass task outcomes must be known.\")\n",
    "        J = len(tasks)\n",
    "        if weights is not None:\n",
    "            if len(weights) != J:\n",
    "                raise ValueError(f\"len(weights), {len(weights)}, must equal len(tasks), {J}\")\n",
    "            self.weights = np.array(weights) / sum(weights)\n",
    "        else:\n",
    "            self.weights = np.ones(J)/J\n",
    "\n",
    "    def predictive_success(self, predicted_log_likelihood: Callable[[PredictionTask], float]) -> float:\n",
    "        return sum(w * predicted_log_likelihood(task) \n",
    "                   for w, task in zip(self.weights, self.tasks)\n",
    "                   if task.B is not None)"
   ],
   "id": "cell-1"
  },
  {
   "cell_type": "code",
   "execution_count": 3,
   "metadata": {},
   "outputs": [],
   "source": [
    "def design_matrix(model_name, x):\n",
    "    if model_name == \"POLY-4\":\n",
    "        X = np.column_stack([np.ones(len(x)), x, x**2, x**3, x**4])\n",
    "    elif model_name == \"CUBIC\":\n",
    "        X = np.column_stack([np.ones(len(x)), x, x**2, x**3])\n",
    "    elif model_name == \"PAR\":\n",
    "        X = np.column_stack([np.ones(len(x)), x, x**2])\n",
    "    elif model_name == \"LIN\":\n",
    "        X = np.column_stack([np.ones(len(x)), x])\n",
    "    elif model_name == \"LIN0\":\n",
    "        X = x.reshape(-1, 1)  # Only x as a feature (no intercept)\n",
    "    else:\n",
    "        raise NotImplementedError(model_name)\n",
    "    return X\n",
    "\n",
    "def log_likelihood(y_pred, y, sigma2) -> float:\n",
    "    \"\"\"Average log-likelihood\"\"\"\n",
    "    pi = math.pi\n",
    "    ln = math.log\n",
    "    MSE = np.mean((y_pred - y)**2)\n",
    "    return -(1/2)*(ln(2*pi*sigma2) + MSE/sigma2)\n",
    "\n",
    "\n",
    "def predicted_ll(model_name, task: PredictionTask) -> float:\n",
    "    x = task.A['x_known']\n",
    "    y = task.A['y_known']\n",
    "    x_out = task.A['x_to_predict']\n",
    "    fit_results = sm.OLS(y, design_matrix(model_name, x)).fit()\n",
    "    y_pred = fit_results.predict(design_matrix(model_name, x_out))\n",
    "    return log_likelihood(y_pred, task.B, fit_results.mse_resid)"
   ],
   "id": "cell-2"
  },
  {
   "cell_type": "code",
   "execution_count": 4,
   "metadata": {},
   "outputs": [],
   "source": [
    "def generate_y(x, noise_std=0.0):\n",
    "    \"\"\"Generates data based on the specified model.\"\"\"\n",
    "    y = 0.5 + 0.5 * np.tanh(x - 2)\n",
    "    if noise_std:\n",
    "        y += np.random.normal(0, noise_std, size=len(x))\n",
    "    return y\n",
    "\n",
    "def generate_x(x_range, step=0.1):\n",
    "    return np.round(np.arange(x_range[0], x_range[1] + step, step), decimals=1)"
   ],
   "id": "cell-3"
  },
  {
   "cell_type": "code",
   "execution_count": 5,
   "metadata": {},
   "outputs": [],
   "source": [
    "# Define x ranges\n",
    "x_ranges = {\n",
    "    \"X0\": (0, 3.5),\n",
    "    \"Xtarg\": (3.6, 5),\n",
    "    \"Xall\": (0, 5),\n",
    "    \"Xcal\": (0, 2.5),\n",
    "    \"Xgen\": (2.6, 3.5),\n",
    "    \"Xcal1\": (0, 2.3),\n",
    "    \"Xgen1\": (2.4, 3.5),\n",
    "    \"Xcal2\": (0, 2.4),\n",
    "    \"Xgen2\": (2.5, 3.5),\n",
    "    \"Xcal3\": (0, 2.6),\n",
    "    \"Xgen3\": (2.7, 3.5),\n",
    "}\n",
    "\n",
    "x_all = generate_x(x_ranges[\"Xall\"])\n",
    "y_true = generate_y(x_all)\n",
    "f_dict = {x: y for x, y in zip(x_all, y_true)}\n",
    "#plt.figure(figsize=(12, 8))\n",
    "#plt.plot(x_all, y_true, label=\"TRUE\", color=\"blue\", linewidth=2)\n",
    "\n",
    "def task(in_range_name: str, out_range_name: str) -> PredictionTask:\n",
    "    x_known = generate_x(x_ranges[in_range_name])\n",
    "    x_to_predict = generate_x(x_ranges[out_range_name])\n",
    "    return PredictionTask(\n",
    "        dict(x_known=x_known,\n",
    "             y_known=np.array([f_dict[x_i] for x_i in x_known]),\n",
    "             x_to_predict=x_to_predict\n",
    "        ),\n",
    "        np.array([f_dict[x_i] for x_i in x_to_predict])\n",
    "    )"
   ],
   "id": "cell-4"
  },
  {
   "cell_type": "code",
   "execution_count": 6,
   "metadata": {},
   "outputs": [
    {
     "output_type": "display_data",
     "metadata": {},
     "data": {
      "text/plain": [
       "np.float64(-2455.6705643687956)"
      ]
     }
    }
   ],
   "source": [
    "predicted_ll(\"POLY-4\", task(\"Xcal\", \"Xgen\"))"
   ],
   "id": "cell-5"
  },
  {
   "cell_type": "code",
   "execution_count": null,
   "metadata": {},
   "outputs": [
    {
     "output_type": "display_data",
     "metadata": {},
     "data": {}
    }
   ],
   "source": [
    "task_of_interest = task(\"X0\", \"Xall\")\n",
    "plt.scatter(task_of_interest.A['x_known'], task_of_interest.A['y_known'], label=\"TRUE\", color=\"blue\")\n",
    "plt.xlim(0, 5)\n",
    "plt.ylim(0, 1)\n",
    "plt.show()"
   ],
   "id": "cell-fig-known-data"
  },
  {
   "cell_type": "code",
   "execution_count": 8,
   "metadata": {},
   "outputs": [
    {
     "output_type": "display_data",
     "metadata": {},
     "data": {
      "text/html": [
       "\n",
       "</div>"
      ]
     }
    }
   ],
   "source": [
    "def run_gen_simulation(range_names, models):\n",
    "    \"\"\"Runs the simulation and returns the results.\"\"\"\n",
    "\n",
    "    results_dict = {}\n",
    "    for model_name in models:\n",
    "        results_dict[model_name] = {}\n",
    "        names = []\n",
    "        for item in range_names: #range_name, x_range in _x_ranges.items():\n",
    "            name = f\"{item[0]}->{item[1]}\"\n",
    "            names.append(name)\n",
    "            results_dict[model_name][name] = {\n",
    "                \"ll_score\": predicted_ll(model_name, task(item[0], item[1]))\n",
    "                #\"x\": x,  # Store x and y for plotting\n",
    "                #\"y\": y,\n",
    "            }\n",
    "    display(pd.DataFrame([[model] + [results_dict[model][range_name][\"ll_score\"] for range_name in names] for model in models]))\n",
    "    return results_dict\n",
    "\n",
    "sim_models = list(reversed([\"POLY-4\", \"CUBIC\", \"PAR\", \"LIN\", \"LIN0\"]))\n",
    "sim_range_names = [(\"Xcal\", \"Xgen\"), (\"X0\", \"Xtarg\"), (\"X0\", \"Xall\")]\n",
    "results_gen = run_gen_simulation(sim_range_names, sim_models)"
   ],
   "id": "cell-7"
  },
  {
   "cell_type": "code",
   "execution_count": 9,
   "metadata": {},
   "outputs": [
    {
     "output_type": "display_data",
     "metadata": {},
     "data": {
      "text/plain": [
       "array([[6.70479807e-001, 4.62091813e-001, 1.59990715e+000],\n",
       "       [2.43587705e+000, 1.56743339e-004, 1.97554521e-001],\n",
       "       [5.15419552e-206, 2.09065481e-019, 9.49878922e-006],\n",
       "       [5.62581763e-152, 5.31134108e-111, 2.62173083e-032],\n",
       "       [0.00000000e+000, 0.00000000e+000, 0.00000000e+000]])"
      ]
     }
    }
   ],
   "source": [
    "temp0 = np.exp(np.array([[results_gen[model][range_name][\"ll_score\"] for range_name in results_gen[model]] for model in sim_models]))\n",
    "temp0"
   ],
   "id": "cell-8"
  },
  {
   "cell_type": "code",
   "execution_count": 10,
   "metadata": {},
   "outputs": [
    {
     "output_type": "display_data",
     "metadata": {},
     "data": {
      "text/plain": [
       "array([2.75251908e-001, 1.00000000e+000, 2.11595061e-206, 2.30956551e-152,\n",
       "       0.00000000e+000])"
      ]
     }
    }
   ],
   "source": [
    "temp0[:, 0]/temp0[1, 0]"
   ],
   "id": "cell-9"
  },
  {
   "cell_type": "code",
   "execution_count": 11,
   "metadata": {},
   "outputs": [
    {
     "output_type": "display_data",
     "metadata": {},
     "data": {
      "text/html": [
       "\n",
       "</div>"
      ]
     }
    }
   ],
   "source": [
    "step = 0.1\n",
    "explore_range_names = []\n",
    "for i in range(0, 10):\n",
    "    cal_end = round(2.5 + step * i, 1)\n",
    "    gen_start = round(cal_end + step, 1)\n",
    "    cal_name = f\"Xcal{cal_end:.1f}\"\n",
    "    gen_name = f\"Xgen{cal_end:.1f}\"\n",
    "    x_ranges[cal_name] = (0, cal_end)\n",
    "    x_ranges[gen_name] = (gen_start, 3.5)\n",
    "    explore_range_names.append((cal_name, gen_name))\n",
    "results_gen2 = run_gen_simulation(explore_range_names, sim_models)"
   ],
   "id": "cell-10"
  },
  {
   "cell_type": "code",
   "execution_count": 12,
   "metadata": {},
   "outputs": [
    {
     "output_type": "display_data",
     "metadata": {},
     "data": {
      "text/plain": [
       "[2.3789457135907206,\n",
       " 4.2286272743981925,\n",
       " 5.199645649009759e-48,\n",
       " 1.3160873860840432e-29,\n",
       " 0.0]"
      ]
     }
    }
   ],
   "source": [
    "step = 0.1\n",
    "tasks = []\n",
    "for i in range(0, 10):\n",
    "    cal_end = round(2.5 + step * i, 1)\n",
    "    gen_start = round(cal_end + step, 1)\n",
    "    cal_name = f\"Xcal{cal_end:.1f}\"\n",
    "    gen_name = f\"Xgen{cal_end:.1f}\"\n",
    "    x_ranges[cal_name] = (0, cal_end)\n",
    "    x_ranges[gen_name] = (gen_start, 3.5)\n",
    "    tasks.append(task(cal_name, gen_name))\n",
    "pclass = WeightedPredictionClass(tasks)\n",
    "[math.exp(pclass.predictive_success(partial(predicted_ll, model_name))) for model_name in sim_models]"
   ],
   "id": "cell-11"
  },
  {
   "cell_type": "code",
   "execution_count": 13,
   "metadata": {},
   "outputs": [
    {
     "output_type": "display_data",
     "metadata": {},
     "data": {
      "text/plain": [
       "array([2.37894571e+00, 4.22862727e+00, 5.19964565e-48, 1.31608739e-29,\n",
       "       0.00000000e+00])"
      ]
     }
    }
   ],
   "source": [
    "temp = np.exp(np.mean(np.array([[results_gen2[model][range_name][\"ll_score\"] for range_name in results_gen2[model]] for model in sim_models]), axis=1))\n",
    "temp"
   ],
   "id": "cell-12"
  },
  {
   "cell_type": "code",
   "execution_count": 14,
   "metadata": {},
   "outputs": [
    {
     "output_type": "display_data",
     "metadata": {},
     "data": {
      "text/plain": [
       "array([5.62581083e-01, 1.00000000e+00, 1.22962969e-48, 3.11232771e-30,\n",
       "       0.00000000e+00])"
      ]
     }
    }
   ],
   "source": [
    "temp/temp[1]"
   ],
   "id": "cell-13"
  },
  {
   "cell_type": "code",
   "execution_count": 15,
   "metadata": {},
   "outputs": [
    {
     "output_type": "display_data",
     "metadata": {},
     "data": {
      "text/plain": [
       "2.302585092994046"
      ]
     }
    }
   ],
   "source": [
    "math.log(10)"
   ],
   "id": "cell-14"
  },
  {
   "cell_type": "code",
   "execution_count": 16,
   "metadata": {},
   "outputs": [
    {
     "output_type": "display_data",
     "metadata": {},
     "data": {
      "text/plain": [
       "0.6931471805599453"
      ]
     }
    }
   ],
   "source": [
    "math.log(2)"
   ],
   "id": "cell-15"
  },
  {
   "cell_type": "code",
   "execution_count": 17,
   "metadata": {},
   "outputs": [
    {
     "output_type": "display_data",
     "metadata": {},
     "data": {
      "text/plain": [
       "[np.float64(0.866657412056983),\n",
       " np.float64(1.441877418970849),\n",
       " np.float64(-108.87549398486995),\n",
       " np.float64(-66.50030446332934),\n",
       " np.float64(-1931.8996035482776)]"
      ]
     }
    }
   ],
   "source": [
    "[pclass.predictive_success(partial(predicted_ll, model_name)) for model_name in sim_models]"
   ],
   "id": "cell-16"
  },
  {
   "cell_type": "code",
   "execution_count": 18,
   "metadata": {},
   "outputs": [
    {
     "output_type": "display_data",
     "metadata": {},
     "data": {
      "text/plain": [
       "{'X0': (0, 3.5),\n",
       " 'Xtarg': (3.6, 5),\n",
       " 'Xall': (0, 5),\n",
       " 'Xcal': (0, 2.5),\n",
       " 'Xgen': (2.6, 3.5),\n",
       " 'Xcal1': (0, 2.3),\n",
       " 'Xgen1': (2.4, 3.5),\n",
       " 'Xcal2': (0, 2.4),\n",
       " 'Xgen2': (2.5, 3.5),\n",
       " 'Xcal3': (0, 2.6),\n",
       " 'Xgen3': (2.7, 3.5),\n",
       " 'Xcal2.5': (0, 2.5),\n",
       " 'Xgen2.5': (2.6, 3.5),\n",
       " 'Xcal2.6': (0, 2.6),\n",
       " 'Xgen2.6': (2.7, 3.5),\n",
       " 'Xcal2.7': (0, 2.7),\n",
       " 'Xgen2.7': (2.8, 3.5),\n",
       " 'Xcal2.8': (0, 2.8),\n",
       " 'Xgen2.8': (2.9, 3.5),\n",
       " 'Xcal2.9': (0, 2.9),\n",
       " 'Xgen2.9': (3.0, 3.5),\n",
       " 'Xcal3.0': (0, 3.0),\n",
       " 'Xgen3.0': (3.1, 3.5),\n",
       " 'Xcal3.1': (0, 3.1),\n",
       " 'Xgen3.1': (3.2, 3.5),\n",
       " 'Xcal3.2': (0, 3.2),\n",
       " 'Xgen3.2': (3.3, 3.5),\n",
       " 'Xcal3.3': (0, 3.3),\n",
       " 'Xgen3.3': (3.4, 3.5),\n",
       " 'Xcal3.4': (0, 3.4),\n",
       " 'Xgen3.4': (3.5, 3.5)}"
      ]
     }
    }
   ],
   "source": [
    "x_ranges"
   ],
   "id": "cell-17"
  },
  {
   "cell_type": "code",
   "execution_count": 19,
   "metadata": {},
   "outputs": [
    {
     "output_type": "display_data",
     "metadata": {},
     "data": {
      "text/html": [
       "\n",
       "</div>"
      ]
     }
    }
   ],
   "source": [
    "step = 0.1\n",
    "explore_range_names = []\n",
    "for i in range(0, 10):\n",
    "    cal_end = round(2.5 + step * i, 1)\n",
    "    gen_start = cal_end #round(cal_end + step, 1)\n",
    "    cal_name = f\"Xcal{cal_end:.1f}orig\"\n",
    "    gen_name = f\"Xgen{cal_end:.1f}orig\"\n",
    "    x_ranges[cal_name] = (0, cal_end)\n",
    "    x_ranges[gen_name] = (gen_start, 3.5)\n",
    "    explore_range_names.append((cal_name, gen_name))\n",
    "results_gen3 = run_gen_simulation(explore_range_names, sim_models)"
   ],
   "id": "cell-18"
  }
 ],
 "nbformat": 4,
 "nbformat_minor": 5,
 "metadata": {}
}
